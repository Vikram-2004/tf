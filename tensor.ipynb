{
 "cells": [
  {
   "cell_type": "markdown",
   "id": "93c87c68-303d-45c3-87c9-b71a6e71af6d",
   "metadata": {},
   "source": [
    "# TENSORS"
   ]
  },
  {
   "cell_type": "code",
   "execution_count": 1,
   "id": "419a75fd-b427-4769-9546-059c08bb4180",
   "metadata": {},
   "outputs": [
    {
     "name": "stdout",
     "output_type": "stream",
     "text": [
      "2.10.0\n"
     ]
    }
   ],
   "source": [
    "import tensorflow as tf\n",
    "print(tf.__version__)"
   ]
  },
  {
   "cell_type": "code",
   "execution_count": 2,
   "id": "615276c0-033a-4777-9d78-2feef5079702",
   "metadata": {},
   "outputs": [
    {
     "data": {
      "text/plain": [
       "<tf.Tensor: shape=(), dtype=int32, numpy=7>"
      ]
     },
     "execution_count": 2,
     "metadata": {},
     "output_type": "execute_result"
    }
   ],
   "source": [
    "#creating tensors\n",
    "scalar = tf.constant(7)\n",
    "scalar"
   ]
  },
  {
   "cell_type": "code",
   "execution_count": 3,
   "id": "93c97974-824c-44c4-8ccb-a11d6ef1b8c6",
   "metadata": {},
   "outputs": [
    {
     "data": {
      "text/plain": [
       "<tf.Tensor: shape=(2,), dtype=int32, numpy=array([10, 20])>"
      ]
     },
     "execution_count": 3,
     "metadata": {},
     "output_type": "execute_result"
    }
   ],
   "source": [
    "vector = tf.constant([10,20])\n",
    "vector"
   ]
  },
  {
   "cell_type": "code",
   "execution_count": 4,
   "id": "8fb25c5b-e790-4b31-a0e5-7b03d80d0ff5",
   "metadata": {},
   "outputs": [
    {
     "data": {
      "text/plain": [
       "1"
      ]
     },
     "execution_count": 4,
     "metadata": {},
     "output_type": "execute_result"
    }
   ],
   "source": [
    "vector.ndim"
   ]
  },
  {
   "cell_type": "code",
   "execution_count": 5,
   "id": "b6bc222e-0e24-45ef-88cd-097a5b030d8b",
   "metadata": {},
   "outputs": [
    {
     "data": {
      "text/plain": [
       "0"
      ]
     },
     "execution_count": 5,
     "metadata": {},
     "output_type": "execute_result"
    }
   ],
   "source": [
    "scalar.ndim"
   ]
  },
  {
   "cell_type": "code",
   "execution_count": 6,
   "id": "484fcafb-44f9-45ae-9660-e2912020f56f",
   "metadata": {},
   "outputs": [
    {
     "data": {
      "text/plain": [
       "<tf.Tensor: shape=(2, 3), dtype=float16, numpy=\n",
       "array([[10., 20., 30.],\n",
       "       [30., 40., 50.]], dtype=float16)>"
      ]
     },
     "execution_count": 6,
     "metadata": {},
     "output_type": "execute_result"
    }
   ],
   "source": [
    "matrix = tf.constant([[10,20,30],\n",
    "                     [30,40,50]], dtype=tf.float16)\n",
    "matrix"
   ]
  },
  {
   "cell_type": "code",
   "execution_count": 7,
   "id": "4488c3d0-e580-4fa9-8ea1-ab1e29e1b1a8",
   "metadata": {},
   "outputs": [
    {
     "data": {
      "text/plain": [
       "2"
      ]
     },
     "execution_count": 7,
     "metadata": {},
     "output_type": "execute_result"
    }
   ],
   "source": [
    "matrix.ndim"
   ]
  },
  {
   "cell_type": "markdown",
   "id": "8c82a1cd-e33a-4ae4-86e7-d48f47e1dbcb",
   "metadata": {},
   "source": [
    "## Definitions\n",
    "* scalar: singular number \n",
    "* vector: a number with a direction  1 dimentional\n",
    "* matrix: a 2 dimentional array \n",
    "* tensor: n dimentional array of numbers"
   ]
  },
  {
   "cell_type": "markdown",
   "id": "bf858101-4ec2-4469-880b-6d8625af70a6",
   "metadata": {},
   "source": [
    "## creating tensors with tf.Variable()"
   ]
  },
  {
   "cell_type": "code",
   "execution_count": 8,
   "id": "59a27bf8-48ec-457f-b510-0b8e2156dd68",
   "metadata": {},
   "outputs": [
    {
     "data": {
      "text/plain": [
       "<tf.Variable 'UnreadVariable' shape=(3,) dtype=int32, numpy=array([200,  20,  30])>"
      ]
     },
     "execution_count": 8,
     "metadata": {},
     "output_type": "execute_result"
    }
   ],
   "source": [
    "changeable = tf.Variable([10,20,30])\n",
    "changeable[0].assign(200)"
   ]
  },
  {
   "cell_type": "markdown",
   "id": "e3f47163-5875-4cf3-adaa-353e0e3ef99d",
   "metadata": {},
   "source": [
    "* using tf.Variable we can change the initially assigned values to the sensor"
   ]
  },
  {
   "cell_type": "markdown",
   "id": "7b81a477-867e-474d-a4ae-33d4e6769f22",
   "metadata": {},
   "source": [
    "# note that we cannot assign using the assignment operator in python\n",
    "* ##### we should instead use the **assign** method provided by the tensor"
   ]
  },
  {
   "cell_type": "code",
   "execution_count": 9,
   "id": "b7d7f72b-3f54-4c23-9778-776fab39fa84",
   "metadata": {},
   "outputs": [],
   "source": [
    "unchangeable = tf.constant([10,20])\n",
    "#unchangeable[0].assign(200)"
   ]
  },
  {
   "cell_type": "markdown",
   "id": "8227973c-4e66-4f21-ba72-a369f00f2def",
   "metadata": {},
   "source": [
    "throws an error while using assign method"
   ]
  },
  {
   "cell_type": "markdown",
   "id": "e225d313-9135-4c23-ba58-da49be8bb3a7",
   "metadata": {},
   "source": [
    "# Random tensor"
   ]
  },
  {
   "cell_type": "code",
   "execution_count": 10,
   "id": "a2c3901a-f7ec-4578-a11c-ba29cd49bb4c",
   "metadata": {},
   "outputs": [
    {
     "data": {
      "text/plain": [
       "(<tf.Tensor: shape=(2, 2), dtype=float32, numpy=\n",
       " array([[1.1051298 , 1.6772811 ],\n",
       "        [0.49890184, 0.54185474]], dtype=float32)>,\n",
       " <tf.Tensor: shape=(2, 2), dtype=float32, numpy=\n",
       " array([[1.1051298 , 1.6772811 ],\n",
       "        [0.49890184, 0.54185474]], dtype=float32)>)"
      ]
     },
     "execution_count": 10,
     "metadata": {},
     "output_type": "execute_result"
    }
   ],
   "source": [
    "tf.random.set_seed(5)\n",
    "ran_1 = tf.random.normal( [2,2] ,seed=42)\n",
    "tf.random.set_seed(5)\n",
    "ran_2 = tf.random.normal([2,2] , seed=42)\n",
    "ran_1,ran_2"
   ]
  },
  {
   "cell_type": "markdown",
   "id": "05bb6ea2-7ec7-46f2-b901-e36ba8b7f035",
   "metadata": {},
   "source": [
    "# Shuffling tensors"
   ]
  },
  {
   "cell_type": "code",
   "execution_count": 11,
   "id": "c736bde3-2205-4f50-9d1d-e933520b5a0f",
   "metadata": {},
   "outputs": [
    {
     "data": {
      "text/plain": [
       "<tf.Tensor: shape=(2, 2), dtype=int32, numpy=\n",
       "array([[10, 20],\n",
       "       [30, 40]])>"
      ]
     },
     "execution_count": 11,
     "metadata": {},
     "output_type": "execute_result"
    }
   ],
   "source": [
    "unshuffled = tf.constant([[10,20],[30,40]])\n",
    "tf.random.shuffle(unshuffled)"
   ]
  },
  {
   "cell_type": "markdown",
   "id": "2bb07b48-b7bb-4def-bdc6-bb3614f97822",
   "metadata": {},
   "source": [
    "### Creating tensors from numpy array"
   ]
  },
  {
   "cell_type": "code",
   "execution_count": 12,
   "id": "447a652a-e52c-4e89-8c76-a5d39b86bb99",
   "metadata": {},
   "outputs": [
    {
     "data": {
      "text/plain": [
       "array([[ 1,  2,  3],\n",
       "       [ 4,  5,  6],\n",
       "       [ 7,  8,  9],\n",
       "       [10, 11, 12],\n",
       "       [13, 14, 15],\n",
       "       [16, 17, 18],\n",
       "       [19, 20, 21],\n",
       "       [22, 23, 24]])"
      ]
     },
     "execution_count": 12,
     "metadata": {},
     "output_type": "execute_result"
    }
   ],
   "source": [
    "import numpy as np\n",
    "np_A = np.arange(1,25).reshape(-1,3)\n",
    "np_A"
   ]
  },
  {
   "cell_type": "code",
   "execution_count": 13,
   "id": "21c358a8-212c-459e-abb4-8a37c3ad9476",
   "metadata": {},
   "outputs": [
    {
     "data": {
      "text/plain": [
       "<tf.Tensor: shape=(2, 4, 3), dtype=int32, numpy=\n",
       "array([[[ 1,  2,  3],\n",
       "        [ 4,  5,  6],\n",
       "        [ 7,  8,  9],\n",
       "        [10, 11, 12]],\n",
       "\n",
       "       [[13, 14, 15],\n",
       "        [16, 17, 18],\n",
       "        [19, 20, 21],\n",
       "        [22, 23, 24]]])>"
      ]
     },
     "execution_count": 13,
     "metadata": {},
     "output_type": "execute_result"
    }
   ],
   "source": [
    "A = tf.constant(np_A, shape=(2,4,3))\n",
    "A"
   ]
  },
  {
   "cell_type": "code",
   "execution_count": 14,
   "id": "bd8a5074-fe91-4f61-9792-4cb270266057",
   "metadata": {},
   "outputs": [
    {
     "data": {
      "text/plain": [
       "2"
      ]
     },
     "execution_count": 14,
     "metadata": {},
     "output_type": "execute_result"
    }
   ],
   "source": [
    "np_A.ndim"
   ]
  },
  {
   "cell_type": "code",
   "execution_count": 15,
   "id": "3ea24451-1b5e-478e-8231-451c7e10ef4c",
   "metadata": {},
   "outputs": [
    {
     "data": {
      "text/plain": [
       "3"
      ]
     },
     "execution_count": 15,
     "metadata": {},
     "output_type": "execute_result"
    }
   ],
   "source": [
    "A.ndim"
   ]
  },
  {
   "cell_type": "code",
   "execution_count": 16,
   "id": "6ba08236-da97-4a46-bff8-dddc81bf07aa",
   "metadata": {},
   "outputs": [
    {
     "data": {
      "text/plain": [
       "<tf.Tensor: shape=(3, 4), dtype=float32, numpy=\n",
       "array([[0., 0., 0., 0.],\n",
       "       [0., 0., 0., 0.],\n",
       "       [0., 0., 0., 0.]], dtype=float32)>"
      ]
     },
     "execution_count": 16,
     "metadata": {},
     "output_type": "execute_result"
    }
   ],
   "source": [
    "tf.zeros(shape=(3,4))"
   ]
  },
  {
   "cell_type": "code",
   "execution_count": 17,
   "id": "5b4d9d1c-40a1-4c55-ba5d-ffb7129cb908",
   "metadata": {},
   "outputs": [
    {
     "data": {
      "text/plain": [
       "<tf.Tensor: shape=(2, 2), dtype=int16, numpy=\n",
       "array([[1, 1],\n",
       "       [1, 1]], dtype=int16)>"
      ]
     },
     "execution_count": 17,
     "metadata": {},
     "output_type": "execute_result"
    }
   ],
   "source": [
    "tf.ones([2,2] , dtype=tf.int16)"
   ]
  },
  {
   "cell_type": "code",
   "execution_count": 50,
   "id": "73eeab04-efc5-4e0d-9926-555211771311",
   "metadata": {},
   "outputs": [
    {
     "data": {
      "text/plain": [
       "<tf.Tensor: shape=(10,), dtype=int32, numpy=array([ 1,  2,  3,  4,  5,  6,  7,  8,  9, 10])>"
      ]
     },
     "execution_count": 50,
     "metadata": {},
     "output_type": "execute_result"
    }
   ],
   "source": [
    "tf.range(1,11)"
   ]
  },
  {
   "cell_type": "markdown",
   "id": "0013269b-77ba-43ed-ad1c-22207ae48a38",
   "metadata": {},
   "source": [
    "to convert tensor into a  numpy array use `np.array(tensor_name)`"
   ]
  },
  {
   "cell_type": "code",
   "execution_count": 63,
   "id": "05961379-092f-4038-9aba-dcb64e6b6639",
   "metadata": {},
   "outputs": [
    {
     "name": "stdout",
     "output_type": "stream",
     "text": [
      "<class 'tensorflow.python.framework.ops.EagerTensor'>\n",
      "a = [1 3 5]\n",
      "<class 'numpy.ndarray'>\n",
      "a = [1 3 5]\n"
     ]
    }
   ],
   "source": [
    "a = tf.constant(np.array([1,3,5]))\n",
    "print(type(a))\n",
    "print(f\"a = {a}\")\n",
    "a = a.numpy()\n",
    "print(type(a))\n",
    "print(f\"a = {a}\")"
   ]
  },
  {
   "cell_type": "markdown",
   "id": "fef7a33b-73e6-4a5a-a074-761f6e7aa45e",
   "metadata": {},
   "source": [
    "# INFORMATION FROM TENSOR\n",
    "* `shape` - return shape of the tensor\n",
    "* `size` - returns the number of elements\n",
    "* `ndim` - returns the number of dimentions of the tensor"
   ]
  },
  {
   "cell_type": "code",
   "execution_count": 18,
   "id": "21b99481-291f-4f93-b8fc-8a9b696a1831",
   "metadata": {},
   "outputs": [],
   "source": [
    "test = tf.zeros(shape=(2,3,4))"
   ]
  },
  {
   "cell_type": "code",
   "execution_count": 19,
   "id": "312ff4fc-d7db-4656-8ef1-fd6e03ac504e",
   "metadata": {},
   "outputs": [
    {
     "name": "stdout",
     "output_type": "stream",
     "text": [
      "data type of the tensor <dtype: 'float32'>\n",
      "number of dimentions of the tensor 3\n",
      "shape of the tensor (2, 3, 4)\n",
      "number of elements in the tensor 24\n"
     ]
    }
   ],
   "source": [
    "print(f\"data type of the tensor {test.dtype}\")\n",
    "print(f\"number of dimentions of the tensor {test.ndim}\")\n",
    "print(f\"shape of the tensor {test.shape}\")\n",
    "print(f\"number of elements in the tensor {tf.size(test).numpy()}\")"
   ]
  },
  {
   "cell_type": "markdown",
   "id": "81e2a058-94ff-44de-b0cd-6fa7a5a966e2",
   "metadata": {},
   "source": [
    "# MANIPULATING TENSORS"
   ]
  },
  {
   "cell_type": "code",
   "execution_count": 20,
   "id": "7abe1815-aaec-419a-b173-4a8c2a47a36a",
   "metadata": {},
   "outputs": [],
   "source": [
    "tensor = tf.constant([[20,30],[40,50]])"
   ]
  },
  {
   "cell_type": "code",
   "execution_count": 21,
   "id": "4e3a9279-b2d6-4b55-8476-31a20f28266a",
   "metadata": {},
   "outputs": [
    {
     "data": {
      "text/plain": [
       "<tf.Tensor: shape=(2, 2), dtype=int32, numpy=\n",
       "array([[30, 40],\n",
       "       [50, 60]])>"
      ]
     },
     "execution_count": 21,
     "metadata": {},
     "output_type": "execute_result"
    }
   ],
   "source": [
    "tensor + 10"
   ]
  },
  {
   "cell_type": "code",
   "execution_count": 22,
   "id": "2c2f0bb4-469d-44c0-9e14-1dcfd7288d91",
   "metadata": {},
   "outputs": [
    {
     "data": {
      "text/plain": [
       "<tf.Tensor: shape=(2, 2), dtype=int32, numpy=\n",
       "array([[200, 300],\n",
       "       [400, 500]])>"
      ]
     },
     "execution_count": 22,
     "metadata": {},
     "output_type": "execute_result"
    }
   ],
   "source": [
    "tensor * 10"
   ]
  },
  {
   "cell_type": "markdown",
   "id": "a5f0a68c-8034-4895-8a74-4f5f9022b168",
   "metadata": {},
   "source": [
    "> mostly use the tf funciton since the run in gpu therefore faster"
   ]
  },
  {
   "cell_type": "code",
   "execution_count": 23,
   "id": "8f3b5f2b-21d0-4ab3-8cab-a0d1509f2cc3",
   "metadata": {},
   "outputs": [
    {
     "data": {
      "text/plain": [
       "<tf.Tensor: shape=(2, 2), dtype=int32, numpy=\n",
       "array([[200, 300],\n",
       "       [400, 500]])>"
      ]
     },
     "execution_count": 23,
     "metadata": {},
     "output_type": "execute_result"
    }
   ],
   "source": [
    "tf.multiply(tensor,10)"
   ]
  },
  {
   "cell_type": "code",
   "execution_count": 24,
   "id": "0edb8df7-7da8-4ef5-9409-d896bf21f194",
   "metadata": {},
   "outputs": [
    {
     "data": {
      "text/plain": [
       "<tf.Tensor: shape=(2, 2), dtype=int32, numpy=\n",
       "array([[10, 20],\n",
       "       [30, 40]])>"
      ]
     },
     "execution_count": 24,
     "metadata": {},
     "output_type": "execute_result"
    }
   ],
   "source": [
    "tf.math.subtract(tensor,10)"
   ]
  },
  {
   "cell_type": "markdown",
   "id": "8d17a084-282a-4b04-b11e-c72e300b719f",
   "metadata": {},
   "source": [
    "# MATRIX MULTIPLICATION"
   ]
  },
  {
   "cell_type": "markdown",
   "id": "b2ff3f64-af45-40fb-aa91-0f81c93be568",
   "metadata": {},
   "source": [
    "> matrix multiplication is also known as dot product"
   ]
  },
  {
   "cell_type": "markdown",
   "id": "52e14c30-deed-4b1c-bdcf-3b352acbbc5a",
   "metadata": {},
   "source": [
    "they can be calculated in two ways\n",
    "* using `tf.linalg.matmul()` function\n",
    "* using `tf.tensordot()` function\n",
    "* using `@` operator"
   ]
  },
  {
   "cell_type": "code",
   "execution_count": 25,
   "id": "d651abf3-13d0-443f-ab27-f1d5aa20689e",
   "metadata": {},
   "outputs": [
    {
     "data": {
      "text/plain": [
       "(<tf.Tensor: shape=(3, 3), dtype=int32, numpy=\n",
       " array([[1, 2, 5],\n",
       "        [7, 2, 1],\n",
       "        [3, 3, 3]])>,\n",
       " <tf.Tensor: shape=(3, 2), dtype=int32, numpy=\n",
       " array([[3, 5],\n",
       "        [6, 7],\n",
       "        [1, 8]])>)"
      ]
     },
     "execution_count": 25,
     "metadata": {},
     "output_type": "execute_result"
    }
   ],
   "source": [
    "A = tf.constant( [[1,2,5],[7,2,1],[3,3,3]])\n",
    "B = tf.constant([[3,5],[6,7],[1,8]])\n",
    "A,B"
   ]
  },
  {
   "cell_type": "code",
   "execution_count": 26,
   "id": "0cd6cc21-e837-4f6c-9b56-a4409f792673",
   "metadata": {},
   "outputs": [
    {
     "data": {
      "text/plain": [
       "<tf.Tensor: shape=(3, 2), dtype=int32, numpy=\n",
       "array([[20, 59],\n",
       "       [34, 57],\n",
       "       [30, 60]])>"
      ]
     },
     "execution_count": 26,
     "metadata": {},
     "output_type": "execute_result"
    }
   ],
   "source": [
    "tf.linalg.matmul(A,B)"
   ]
  },
  {
   "cell_type": "code",
   "execution_count": 27,
   "id": "fe1e97d7-f4a2-488b-8178-54c3753763b2",
   "metadata": {},
   "outputs": [
    {
     "data": {
      "text/plain": [
       "<tf.Tensor: shape=(3, 2), dtype=int32, numpy=\n",
       "array([[20, 59],\n",
       "       [34, 57],\n",
       "       [30, 60]])>"
      ]
     },
     "execution_count": 27,
     "metadata": {},
     "output_type": "execute_result"
    }
   ],
   "source": [
    "A @ B"
   ]
  },
  {
   "cell_type": "markdown",
   "id": "81e1824e-9d1b-4d63-b9e6-bc6e910db9be",
   "metadata": {},
   "source": [
    "### reshaping tensors"
   ]
  },
  {
   "cell_type": "code",
   "execution_count": 28,
   "id": "fd879393-7446-403e-926d-971b77a81269",
   "metadata": {},
   "outputs": [
    {
     "data": {
      "text/plain": [
       "<tf.Tensor: shape=(4,), dtype=float32, numpy=array([0., 0., 0., 0.], dtype=float32)>"
      ]
     },
     "execution_count": 28,
     "metadata": {},
     "output_type": "execute_result"
    }
   ],
   "source": [
    "a = tf.zeros((4))\n",
    "a"
   ]
  },
  {
   "cell_type": "code",
   "execution_count": 29,
   "id": "02479ac0-fe98-4774-ba70-22750c6b37fe",
   "metadata": {},
   "outputs": [],
   "source": [
    "a = tf.reshape(a,shape=(2,2))"
   ]
  },
  {
   "cell_type": "code",
   "execution_count": 30,
   "id": "f292177b-517d-46f8-8975-832f818af50c",
   "metadata": {},
   "outputs": [
    {
     "data": {
      "text/plain": [
       "<tf.Tensor: shape=(2, 2), dtype=float32, numpy=\n",
       "array([[0., 0.],\n",
       "       [0., 0.]], dtype=float32)>"
      ]
     },
     "execution_count": 30,
     "metadata": {},
     "output_type": "execute_result"
    }
   ],
   "source": [
    "a"
   ]
  },
  {
   "cell_type": "markdown",
   "id": "a220fedf-07c1-4e93-af47-fd1eff7af979",
   "metadata": {},
   "source": [
    "#### transpose"
   ]
  },
  {
   "cell_type": "code",
   "execution_count": 31,
   "id": "35316ff2-6632-43a6-b38b-05f7c7ef0603",
   "metadata": {},
   "outputs": [
    {
     "data": {
      "text/plain": [
       "<tf.Tensor: shape=(3, 3), dtype=int32, numpy=\n",
       "array([[1, 4, 7],\n",
       "       [2, 5, 8],\n",
       "       [3, 6, 9]])>"
      ]
     },
     "execution_count": 31,
     "metadata": {},
     "output_type": "execute_result"
    }
   ],
   "source": [
    "a = tf.constant([[1,2,3],\n",
    "                 [4,5,6],\n",
    "                 [7,8,9]])\n",
    "tf.transpose(a)"
   ]
  },
  {
   "cell_type": "code",
   "execution_count": 32,
   "id": "3390a051-b399-469d-930b-c69459ea2f01",
   "metadata": {},
   "outputs": [
    {
     "name": "stdout",
     "output_type": "stream",
     "text": [
      "tf.Tensor(\n",
      "[[1 2 5]\n",
      " [7 2 1]\n",
      " [3 3 3]], shape=(3, 3), dtype=int32) tf.Tensor(\n",
      "[[3 5]\n",
      " [6 7]\n",
      " [1 8]], shape=(3, 2), dtype=int32)\n"
     ]
    },
    {
     "data": {
      "text/plain": [
       "<tf.Tensor: shape=(3, 2), dtype=int32, numpy=\n",
       "array([[20, 59],\n",
       "       [34, 57],\n",
       "       [30, 60]])>"
      ]
     },
     "execution_count": 32,
     "metadata": {},
     "output_type": "execute_result"
    }
   ],
   "source": [
    "print(A,B)\n",
    "tf.tensordot(A,B,axes=1)"
   ]
  },
  {
   "cell_type": "markdown",
   "id": "22814dc6-2e9b-4953-bdb6-f90fc10b373e",
   "metadata": {},
   "source": [
    "## CHANGING THE DATATYPE OF THE TENSOR"
   ]
  },
  {
   "cell_type": "markdown",
   "id": "c7794b06-8c96-475d-a180-377b8c5d2c88",
   "metadata": {},
   "source": [
    "we can change the datatype of the tensor using the `tf.cast` function"
   ]
  },
  {
   "cell_type": "code",
   "execution_count": 33,
   "id": "ef9f1eac-6b78-4b50-8d73-2337c478376f",
   "metadata": {},
   "outputs": [
    {
     "data": {
      "text/plain": [
       "tf.float32"
      ]
     },
     "execution_count": 33,
     "metadata": {},
     "output_type": "execute_result"
    }
   ],
   "source": [
    "tensor = tf.zeros((2,2))\n",
    "tensor.dtype"
   ]
  },
  {
   "cell_type": "code",
   "execution_count": 34,
   "id": "493131d1-bc6b-4536-8979-23fd19333c7f",
   "metadata": {},
   "outputs": [
    {
     "data": {
      "text/plain": [
       "tf.float16"
      ]
     },
     "execution_count": 34,
     "metadata": {},
     "output_type": "execute_result"
    }
   ],
   "source": [
    "new_tensor = tf.cast(tensor , dtype = tf.float16)\n",
    "new_tensor.dtype"
   ]
  },
  {
   "cell_type": "markdown",
   "id": "9db6e5af-ef32-4bcf-a1a5-f79afa4992e6",
   "metadata": {},
   "source": [
    "### AGGEREGATING TENSORS"
   ]
  },
  {
   "cell_type": "markdown",
   "id": "ae03dfb7-4822-42f3-bf32-2fdc28ccb526",
   "metadata": {},
   "source": [
    "they are you reduce or filter out some data\n",
    "* `tf.abs()` return the absolute value of the tensor\n",
    "* `tf.reduve_max() or tf.reduce_min()` returns min or max value respectively\n",
    "* `tf.math.reduce_std() or tf.math.reduce_variance` returns the std dev or var repectively"
   ]
  },
  {
   "cell_type": "code",
   "execution_count": 35,
   "id": "0ba57aa9-4fc1-4111-bffa-c9eceda459ff",
   "metadata": {},
   "outputs": [],
   "source": [
    "d = tf.constant([10,-20,30])"
   ]
  },
  {
   "cell_type": "code",
   "execution_count": 36,
   "id": "4f6ae05c-70c1-477d-aedf-8d40bf288eda",
   "metadata": {},
   "outputs": [
    {
     "data": {
      "text/plain": [
       "<tf.Tensor: shape=(3,), dtype=int32, numpy=array([10, 20, 30])>"
      ]
     },
     "execution_count": 36,
     "metadata": {},
     "output_type": "execute_result"
    }
   ],
   "source": [
    "tf.abs(d)"
   ]
  },
  {
   "cell_type": "code",
   "execution_count": 37,
   "id": "8e824ae7-8759-4bc4-897b-db4af2e22d0f",
   "metadata": {},
   "outputs": [
    {
     "data": {
      "text/plain": [
       "<tf.Tensor: shape=(), dtype=int32, numpy=30>"
      ]
     },
     "execution_count": 37,
     "metadata": {},
     "output_type": "execute_result"
    }
   ],
   "source": [
    "tf.reduce_max(d)"
   ]
  },
  {
   "cell_type": "code",
   "execution_count": 38,
   "id": "c4c36ef7-4ff8-488d-b165-584aa5ff17ef",
   "metadata": {},
   "outputs": [
    {
     "data": {
      "text/plain": [
       "<tf.Tensor: shape=(), dtype=int32, numpy=-20>"
      ]
     },
     "execution_count": 38,
     "metadata": {},
     "output_type": "execute_result"
    }
   ],
   "source": [
    "tf.reduce_min(d)"
   ]
  },
  {
   "cell_type": "code",
   "execution_count": 39,
   "id": "e1a5b9f1-2595-4638-bb5f-0045c54136c9",
   "metadata": {},
   "outputs": [],
   "source": [
    "rand = tf.constant(np.random.randint(0,100,20))\n",
    "rand = tf.cast(rand,dtype = tf.float16)"
   ]
  },
  {
   "cell_type": "code",
   "execution_count": 40,
   "id": "79507b1b-bb0c-410b-9dbf-d2f5af0ad9d6",
   "metadata": {},
   "outputs": [
    {
     "data": {
      "text/plain": [
       "<tf.Tensor: shape=(), dtype=float16, numpy=30.33>"
      ]
     },
     "execution_count": 40,
     "metadata": {},
     "output_type": "execute_result"
    }
   ],
   "source": [
    "tf.math.reduce_std(rand)"
   ]
  },
  {
   "cell_type": "code",
   "execution_count": 41,
   "id": "70c9e21e-72b4-4019-ac10-497b3163dca7",
   "metadata": {},
   "outputs": [
    {
     "data": {
      "text/plain": [
       "<tf.Tensor: shape=(), dtype=float16, numpy=920.0>"
      ]
     },
     "execution_count": 41,
     "metadata": {},
     "output_type": "execute_result"
    }
   ],
   "source": [
    "tf.math.reduce_variance(rand)"
   ]
  },
  {
   "cell_type": "markdown",
   "id": "bface3fe-6564-43be-a514-2bcb22021ea7",
   "metadata": {},
   "source": [
    "### POSITIONAL MIN AND MAX"
   ]
  },
  {
   "cell_type": "markdown",
   "id": "ecd6fc6c-8945-47da-abd4-4a54d09a53d8",
   "metadata": {},
   "source": [
    "`tf.argmin() or tf.argmax()`method is used to return the index of the min value or max value respectively"
   ]
  },
  {
   "cell_type": "code",
   "execution_count": 42,
   "id": "78ddad15-25b1-478e-a116-e9f8bb365e5f",
   "metadata": {},
   "outputs": [
    {
     "data": {
      "text/plain": [
       "<tf.Tensor: shape=(50,), dtype=float32, numpy=\n",
       "array([ 0.3274685 , -0.8426258 ,  0.3194337 , -1.4075519 , -2.3880599 ,\n",
       "       -1.0392479 , -0.5573232 ,  0.539707  ,  1.6994323 ,  0.28893656,\n",
       "       -1.5066116 , -0.26454744, -0.59722406, -1.9171132 , -0.62044144,\n",
       "        0.8504023 , -0.40604794, -3.0258412 ,  0.9058464 ,  0.29855987,\n",
       "       -0.22561555, -0.7616443 , -1.891714  , -0.9384712 ,  0.77852213,\n",
       "       -0.47338897,  0.97772694,  0.24694404,  0.20573747, -0.5256233 ,\n",
       "        0.32410017,  0.02545409, -0.10638497, -0.6369475 ,  1.1603122 ,\n",
       "        0.2507359 , -0.41728497,  0.40125778, -1.4145442 , -0.59318566,\n",
       "       -1.6617213 ,  0.33567193,  0.10815629,  0.2347968 , -0.56668764,\n",
       "       -0.35819843,  0.88698626,  0.5274477 ,  0.70402247, -0.33421248],\n",
       "      dtype=float32)>"
      ]
     },
     "execution_count": 42,
     "metadata": {},
     "output_type": "execute_result"
    }
   ],
   "source": [
    "tf.random.set_seed(42)\n",
    "tensor = tf.random.normal((50,))\n",
    "tensor"
   ]
  },
  {
   "cell_type": "code",
   "execution_count": 45,
   "id": "d260f98a-ade0-4f8b-bcd4-bbc062109e6c",
   "metadata": {},
   "outputs": [
    {
     "data": {
      "text/plain": [
       "<tf.Tensor: shape=(), dtype=float32, numpy=-3.0258412>"
      ]
     },
     "execution_count": 45,
     "metadata": {},
     "output_type": "execute_result"
    }
   ],
   "source": [
    "tensor[tf.argmin(tensor)]"
   ]
  },
  {
   "cell_type": "code",
   "execution_count": 47,
   "id": "967f6b88-1247-4d83-93a5-e2878d589e32",
   "metadata": {},
   "outputs": [
    {
     "data": {
      "text/plain": [
       "<tf.Tensor: shape=(), dtype=int64, numpy=8>"
      ]
     },
     "execution_count": 47,
     "metadata": {},
     "output_type": "execute_result"
    }
   ],
   "source": [
    "tf.argmax(tensor)"
   ]
  },
  {
   "cell_type": "code",
   "execution_count": null,
   "id": "dfd1c4ab-8ae5-4314-8d2f-e0b611cdd6f0",
   "metadata": {},
   "outputs": [],
   "source": []
  }
 ],
 "metadata": {
  "kernelspec": {
   "display_name": "Python 3 (ipykernel)",
   "language": "python",
   "name": "python3"
  },
  "language_info": {
   "codemirror_mode": {
    "name": "ipython",
    "version": 3
   },
   "file_extension": ".py",
   "mimetype": "text/x-python",
   "name": "python",
   "nbconvert_exporter": "python",
   "pygments_lexer": "ipython3",
   "version": "3.10.13"
  }
 },
 "nbformat": 4,
 "nbformat_minor": 5
}
